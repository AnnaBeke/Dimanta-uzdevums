{
  "nbformat": 4,
  "nbformat_minor": 0,
  "metadata": {
    "colab": {
      "name": "Untitled3.ipynb",
      "provenance": [],
      "authorship_tag": "ABX9TyN2bHi440wbSiGPRO0tk1nW",
      "include_colab_link": true
    },
    "kernelspec": {
      "name": "python3",
      "display_name": "Python 3"
    },
    "language_info": {
      "name": "python"
    }
  },
  "cells": [
    {
      "cell_type": "markdown",
      "metadata": {
        "id": "view-in-github",
        "colab_type": "text"
      },
      "source": [
        "<a href=\"https://colab.research.google.com/github/AnnaBeke/Dimanta-uzdevums/blob/main/T%C4%ABrs_kods(bez_koment%C4%81riem).ipynb\" target=\"_parent\"><img src=\"https://colab.research.google.com/assets/colab-badge.svg\" alt=\"Open In Colab\"/></a>"
      ]
    },
    {
      "cell_type": "code",
      "metadata": {
        "colab": {
          "base_uri": "https://localhost:8080/"
        },
        "id": "uoc5tByQzBYT",
        "outputId": "b8cf07e4-a93f-4415-ce8f-aed52c8d65b5"
      },
      "source": [
        "h = int(input('Ievadi ciparu: '))\n",
        "\n",
        "if h%2==0:\n",
        "   h= (h+1)\n",
        "   for i in range(1,h,2):\n",
        "     print(\" \"*(h//2-i//2),\"*\"*i)\n",
        "   for i in range(h,0,-2):\n",
        "      print(\" \"*(h//2-i//2), \"*\"*i)\n",
        "\n",
        "else: \n",
        "  for i in range(1,h,2):\n",
        "    print(\" \"*(h//2-i//2),\"*\"*i)\n",
        "  for i in range(h,0,-2):\n",
        "    print(\" \"*(h//2-i//2), \"*\"*i)\n",
        "\n"
      ],
      "execution_count": 3,
      "outputs": [
        {
          "output_type": "stream",
          "text": [
            "Ievadi ciparu: 12\n",
            "       *\n",
            "      ***\n",
            "     *****\n",
            "    *******\n",
            "   *********\n",
            "  ***********\n",
            " *************\n",
            "  ***********\n",
            "   *********\n",
            "    *******\n",
            "     *****\n",
            "      ***\n",
            "       *\n"
          ],
          "name": "stdout"
        }
      ]
    }
  ]
}